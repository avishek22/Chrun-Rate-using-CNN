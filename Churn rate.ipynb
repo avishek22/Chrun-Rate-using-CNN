{
 "cells": [
  {
   "cell_type": "code",
   "execution_count": 2,
   "metadata": {},
   "outputs": [],
   "source": [
    "import pandas as pd\n",
    "from matplotlib import pyplot as plt\n",
    "import numpy as np\n",
    "%matplotlib inline"
   ]
  },
  {
   "cell_type": "code",
   "execution_count": 3,
   "metadata": {},
   "outputs": [
    {
     "data": {
      "text/html": [
       "<div>\n",
       "<style scoped>\n",
       "    .dataframe tbody tr th:only-of-type {\n",
       "        vertical-align: middle;\n",
       "    }\n",
       "\n",
       "    .dataframe tbody tr th {\n",
       "        vertical-align: top;\n",
       "    }\n",
       "\n",
       "    .dataframe thead th {\n",
       "        text-align: right;\n",
       "    }\n",
       "</style>\n",
       "<table border=\"1\" class=\"dataframe\">\n",
       "  <thead>\n",
       "    <tr style=\"text-align: right;\">\n",
       "      <th></th>\n",
       "      <th>customerID</th>\n",
       "      <th>gender</th>\n",
       "      <th>SeniorCitizen</th>\n",
       "      <th>Partner</th>\n",
       "      <th>Dependents</th>\n",
       "      <th>tenure</th>\n",
       "      <th>PhoneService</th>\n",
       "      <th>MultipleLines</th>\n",
       "      <th>InternetService</th>\n",
       "      <th>OnlineSecurity</th>\n",
       "      <th>...</th>\n",
       "      <th>DeviceProtection</th>\n",
       "      <th>TechSupport</th>\n",
       "      <th>StreamingTV</th>\n",
       "      <th>StreamingMovies</th>\n",
       "      <th>Contract</th>\n",
       "      <th>PaperlessBilling</th>\n",
       "      <th>PaymentMethod</th>\n",
       "      <th>MonthlyCharges</th>\n",
       "      <th>TotalCharges</th>\n",
       "      <th>Churn</th>\n",
       "    </tr>\n",
       "  </thead>\n",
       "  <tbody>\n",
       "    <tr>\n",
       "      <th>0</th>\n",
       "      <td>7590-VHVEG</td>\n",
       "      <td>Female</td>\n",
       "      <td>0</td>\n",
       "      <td>Yes</td>\n",
       "      <td>No</td>\n",
       "      <td>1</td>\n",
       "      <td>No</td>\n",
       "      <td>No phone service</td>\n",
       "      <td>DSL</td>\n",
       "      <td>No</td>\n",
       "      <td>...</td>\n",
       "      <td>No</td>\n",
       "      <td>No</td>\n",
       "      <td>No</td>\n",
       "      <td>No</td>\n",
       "      <td>Month-to-month</td>\n",
       "      <td>Yes</td>\n",
       "      <td>Electronic check</td>\n",
       "      <td>29.85</td>\n",
       "      <td>29.85</td>\n",
       "      <td>No</td>\n",
       "    </tr>\n",
       "    <tr>\n",
       "      <th>1</th>\n",
       "      <td>5575-GNVDE</td>\n",
       "      <td>Male</td>\n",
       "      <td>0</td>\n",
       "      <td>No</td>\n",
       "      <td>No</td>\n",
       "      <td>34</td>\n",
       "      <td>Yes</td>\n",
       "      <td>No</td>\n",
       "      <td>DSL</td>\n",
       "      <td>Yes</td>\n",
       "      <td>...</td>\n",
       "      <td>Yes</td>\n",
       "      <td>No</td>\n",
       "      <td>No</td>\n",
       "      <td>No</td>\n",
       "      <td>One year</td>\n",
       "      <td>No</td>\n",
       "      <td>Mailed check</td>\n",
       "      <td>56.95</td>\n",
       "      <td>1889.5</td>\n",
       "      <td>No</td>\n",
       "    </tr>\n",
       "    <tr>\n",
       "      <th>2</th>\n",
       "      <td>3668-QPYBK</td>\n",
       "      <td>Male</td>\n",
       "      <td>0</td>\n",
       "      <td>No</td>\n",
       "      <td>No</td>\n",
       "      <td>2</td>\n",
       "      <td>Yes</td>\n",
       "      <td>No</td>\n",
       "      <td>DSL</td>\n",
       "      <td>Yes</td>\n",
       "      <td>...</td>\n",
       "      <td>No</td>\n",
       "      <td>No</td>\n",
       "      <td>No</td>\n",
       "      <td>No</td>\n",
       "      <td>Month-to-month</td>\n",
       "      <td>Yes</td>\n",
       "      <td>Mailed check</td>\n",
       "      <td>53.85</td>\n",
       "      <td>108.15</td>\n",
       "      <td>Yes</td>\n",
       "    </tr>\n",
       "    <tr>\n",
       "      <th>3</th>\n",
       "      <td>7795-CFOCW</td>\n",
       "      <td>Male</td>\n",
       "      <td>0</td>\n",
       "      <td>No</td>\n",
       "      <td>No</td>\n",
       "      <td>45</td>\n",
       "      <td>No</td>\n",
       "      <td>No phone service</td>\n",
       "      <td>DSL</td>\n",
       "      <td>Yes</td>\n",
       "      <td>...</td>\n",
       "      <td>Yes</td>\n",
       "      <td>Yes</td>\n",
       "      <td>No</td>\n",
       "      <td>No</td>\n",
       "      <td>One year</td>\n",
       "      <td>No</td>\n",
       "      <td>Bank transfer (automatic)</td>\n",
       "      <td>42.30</td>\n",
       "      <td>1840.75</td>\n",
       "      <td>No</td>\n",
       "    </tr>\n",
       "    <tr>\n",
       "      <th>4</th>\n",
       "      <td>9237-HQITU</td>\n",
       "      <td>Female</td>\n",
       "      <td>0</td>\n",
       "      <td>No</td>\n",
       "      <td>No</td>\n",
       "      <td>2</td>\n",
       "      <td>Yes</td>\n",
       "      <td>No</td>\n",
       "      <td>Fiber optic</td>\n",
       "      <td>No</td>\n",
       "      <td>...</td>\n",
       "      <td>No</td>\n",
       "      <td>No</td>\n",
       "      <td>No</td>\n",
       "      <td>No</td>\n",
       "      <td>Month-to-month</td>\n",
       "      <td>Yes</td>\n",
       "      <td>Electronic check</td>\n",
       "      <td>70.70</td>\n",
       "      <td>151.65</td>\n",
       "      <td>Yes</td>\n",
       "    </tr>\n",
       "  </tbody>\n",
       "</table>\n",
       "<p>5 rows × 21 columns</p>\n",
       "</div>"
      ],
      "text/plain": [
       "   customerID  gender  SeniorCitizen Partner Dependents  tenure PhoneService  \\\n",
       "0  7590-VHVEG  Female              0     Yes         No       1           No   \n",
       "1  5575-GNVDE    Male              0      No         No      34          Yes   \n",
       "2  3668-QPYBK    Male              0      No         No       2          Yes   \n",
       "3  7795-CFOCW    Male              0      No         No      45           No   \n",
       "4  9237-HQITU  Female              0      No         No       2          Yes   \n",
       "\n",
       "      MultipleLines InternetService OnlineSecurity  ... DeviceProtection  \\\n",
       "0  No phone service             DSL             No  ...               No   \n",
       "1                No             DSL            Yes  ...              Yes   \n",
       "2                No             DSL            Yes  ...               No   \n",
       "3  No phone service             DSL            Yes  ...              Yes   \n",
       "4                No     Fiber optic             No  ...               No   \n",
       "\n",
       "  TechSupport StreamingTV StreamingMovies        Contract PaperlessBilling  \\\n",
       "0          No          No              No  Month-to-month              Yes   \n",
       "1          No          No              No        One year               No   \n",
       "2          No          No              No  Month-to-month              Yes   \n",
       "3         Yes          No              No        One year               No   \n",
       "4          No          No              No  Month-to-month              Yes   \n",
       "\n",
       "               PaymentMethod MonthlyCharges  TotalCharges Churn  \n",
       "0           Electronic check          29.85         29.85    No  \n",
       "1               Mailed check          56.95        1889.5    No  \n",
       "2               Mailed check          53.85        108.15   Yes  \n",
       "3  Bank transfer (automatic)          42.30       1840.75    No  \n",
       "4           Electronic check          70.70        151.65   Yes  \n",
       "\n",
       "[5 rows x 21 columns]"
      ]
     },
     "execution_count": 3,
     "metadata": {},
     "output_type": "execute_result"
    }
   ],
   "source": [
    "df=pd.read_csv('WA_Fn-UseC_-Telco-Customer-Churn.csv')\n",
    "df.head()"
   ]
  },
  {
   "cell_type": "code",
   "execution_count": 4,
   "metadata": {},
   "outputs": [],
   "source": [
    "df.drop('customerID',axis='columns',inplace=True)"
   ]
  },
  {
   "cell_type": "code",
   "execution_count": 12,
   "metadata": {},
   "outputs": [],
   "source": [
    "df1=df[df.TotalCharges!=' ']"
   ]
  },
  {
   "cell_type": "code",
   "execution_count": 14,
   "metadata": {},
   "outputs": [
    {
     "name": "stderr",
     "output_type": "stream",
     "text": [
      "C:\\Users\\avish\\anaconda3\\lib\\site-packages\\pandas\\core\\generic.py:5303: SettingWithCopyWarning: \n",
      "A value is trying to be set on a copy of a slice from a DataFrame.\n",
      "Try using .loc[row_indexer,col_indexer] = value instead\n",
      "\n",
      "See the caveats in the documentation: https://pandas.pydata.org/pandas-docs/stable/user_guide/indexing.html#returning-a-view-versus-a-copy\n",
      "  self[name] = value\n"
     ]
    }
   ],
   "source": [
    "df1.TotalCharges=pd.to_numeric(df1.TotalCharges)"
   ]
  },
  {
   "cell_type": "code",
   "execution_count": 10,
   "metadata": {},
   "outputs": [
    {
     "data": {
      "text/plain": [
       "(7043, 20)"
      ]
     },
     "execution_count": 10,
     "metadata": {},
     "output_type": "execute_result"
    }
   ],
   "source": [
    "df.shape"
   ]
  },
  {
   "cell_type": "code",
   "execution_count": 13,
   "metadata": {},
   "outputs": [
    {
     "data": {
      "text/plain": [
       "(7032, 20)"
      ]
     },
     "execution_count": 13,
     "metadata": {},
     "output_type": "execute_result"
    }
   ],
   "source": [
    "df1.shape"
   ]
  },
  {
   "cell_type": "code",
   "execution_count": 15,
   "metadata": {},
   "outputs": [
    {
     "data": {
      "text/plain": [
       "gender               object\n",
       "SeniorCitizen         int64\n",
       "Partner              object\n",
       "Dependents           object\n",
       "tenure                int64\n",
       "PhoneService         object\n",
       "MultipleLines        object\n",
       "InternetService      object\n",
       "OnlineSecurity       object\n",
       "OnlineBackup         object\n",
       "DeviceProtection     object\n",
       "TechSupport          object\n",
       "StreamingTV          object\n",
       "StreamingMovies      object\n",
       "Contract             object\n",
       "PaperlessBilling     object\n",
       "PaymentMethod        object\n",
       "MonthlyCharges      float64\n",
       "TotalCharges        float64\n",
       "Churn                object\n",
       "dtype: object"
      ]
     },
     "execution_count": 15,
     "metadata": {},
     "output_type": "execute_result"
    }
   ],
   "source": [
    "df1.dtypes"
   ]
  },
  {
   "cell_type": "code",
   "execution_count": 17,
   "metadata": {},
   "outputs": [
    {
     "name": "stderr",
     "output_type": "stream",
     "text": [
      "C:\\Users\\avish\\anaconda3\\lib\\site-packages\\numpy\\core\\_asarray.py:102: VisibleDeprecationWarning: Creating an ndarray from ragged nested sequences (which is a list-or-tuple of lists-or-tuples-or ndarrays with different lengths or shapes) is deprecated. If you meant to do this, you must specify 'dtype=object' when creating the ndarray.\n",
      "  return array(a, dtype, copy=False, order=order)\n"
     ]
    },
    {
     "data": {
      "text/plain": [
       "([array([877., 259., 159., 114., 102.,  98.,  72.,  70.,  46.,  72.]),\n",
       "  array([ 847.,  476.,  402.,  424.,  371.,  346.,  380.,  425.,  455.,\n",
       "         1037.])],\n",
       " array([ 1. ,  8.1, 15.2, 22.3, 29.4, 36.5, 43.6, 50.7, 57.8, 64.9, 72. ]),\n",
       " <a list of 2 Lists of Patches objects>)"
      ]
     },
     "execution_count": 17,
     "metadata": {},
     "output_type": "execute_result"
    },
    {
     "data": {
      "image/png": "[encoded data removed]",
      "text/plain": [
       "<Figure size 432x288 with 1 Axes>"
      ]
     },
     "metadata": {
      "needs_background": "light"
     },
     "output_type": "display_data"
    }
   ],
   "source": [
    "tenure_churn_no=df1[df1.Churn=='No'].tenure\n",
    "tenure_churn_yes=df1[df1.Churn=='Yes'].tenure\n",
    "plt.hist([tenure_churn_yes,tenure_churn_no])"
   ]
  },
  {
   "cell_type": "code",
   "execution_count": 18,
   "metadata": {},
   "outputs": [],
   "source": [
    "def print_unique_col_values(df):\n",
    "    for column in df:\n",
    "        if df[column].dtypes=='object':\n",
    "            print(f'{column}:{df[column].unique()}')"
   ]
  },
  {
   "cell_type": "code",
   "execution_count": 24,
   "metadata": {},
   "outputs": [
    {
     "name": "stdout",
     "output_type": "stream",
     "text": [
      "gender:['Female' 'Male']\n",
      "InternetService:['DSL' 'Fiber optic' 'No']\n",
      "Contract:['Month-to-month' 'One year' 'Two year']\n",
      "PaymentMethod:['Electronic check' 'Mailed check' 'Bank transfer (automatic)'\n",
      " 'Credit card (automatic)']\n"
     ]
    }
   ],
   "source": [
    "print_unique_col_values(df1)"
   ]
  },
  {
   "cell_type": "code",
   "execution_count": 22,
   "metadata": {},
   "outputs": [
    {
     "name": "stderr",
     "output_type": "stream",
     "text": [
      "C:\\Users\\avish\\anaconda3\\lib\\site-packages\\pandas\\core\\frame.py:4172: SettingWithCopyWarning: \n",
      "A value is trying to be set on a copy of a slice from a DataFrame\n",
      "\n",
      "See the caveats in the documentation: https://pandas.pydata.org/pandas-docs/stable/user_guide/indexing.html#returning-a-view-versus-a-copy\n",
      "  method=method,\n"
     ]
    }
   ],
   "source": [
    "df1.replace('No internet service','No',inplace=True)\n",
    "df1.replace('No phone service','No',inplace=True)"
   ]
  },
  {
   "cell_type": "code",
   "execution_count": 23,
   "metadata": {},
   "outputs": [
    {
     "name": "stderr",
     "output_type": "stream",
     "text": [
      "C:\\Users\\avish\\anaconda3\\lib\\site-packages\\pandas\\core\\generic.py:6746: SettingWithCopyWarning: \n",
      "A value is trying to be set on a copy of a slice from a DataFrame\n",
      "\n",
      "See the caveats in the documentation: https://pandas.pydata.org/pandas-docs/stable/user_guide/indexing.html#returning-a-view-versus-a-copy\n",
      "  self._update_inplace(new_data)\n"
     ]
    }
   ],
   "source": [
    "yes_no_columns=['Partner','Dependents','PhoneService','MultipleLines',\n",
    "               'OnlineSecurity','OnlineBackup','DeviceProtection',\n",
    "               'TechSupport','StreamingTV','StreamingMovies','PaperlessBilling',\n",
    "               'Churn']\n",
    "\n",
    "for col in yes_no_columns:\n",
    "    df1[col].replace({'Yes':1,\"No\":0},inplace=True)"
   ]
  },
  {
   "cell_type": "code",
   "execution_count": 28,
   "metadata": {},
   "outputs": [
    {
     "data": {
      "text/plain": [
       "gender                int64\n",
       "SeniorCitizen         int64\n",
       "Partner               int64\n",
       "Dependents            int64\n",
       "tenure                int64\n",
       "PhoneService          int64\n",
       "MultipleLines         int64\n",
       "InternetService      object\n",
       "OnlineSecurity        int64\n",
       "OnlineBackup          int64\n",
       "DeviceProtection      int64\n",
       "TechSupport           int64\n",
       "StreamingTV           int64\n",
       "StreamingMovies       int64\n",
       "Contract             object\n",
       "PaperlessBilling      int64\n",
       "PaymentMethod        object\n",
       "MonthlyCharges      float64\n",
       "TotalCharges        float64\n",
       "Churn                 int64\n",
       "dtype: object"
      ]
     },
     "execution_count": 28,
     "metadata": {},
     "output_type": "execute_result"
    }
   ],
   "source": [
    "df1.dtypes"
   ]
  },
  {
   "cell_type": "code",
   "execution_count": 27,
   "metadata": {},
   "outputs": [
    {
     "name": "stderr",
     "output_type": "stream",
     "text": [
      "C:\\Users\\avish\\anaconda3\\lib\\site-packages\\pandas\\core\\generic.py:6746: SettingWithCopyWarning: \n",
      "A value is trying to be set on a copy of a slice from a DataFrame\n",
      "\n",
      "See the caveats in the documentation: https://pandas.pydata.org/pandas-docs/stable/user_guide/indexing.html#returning-a-view-versus-a-copy\n",
      "  self._update_inplace(new_data)\n"
     ]
    }
   ],
   "source": [
    "df1['gender'].replace({'Female':1,\"Male\":0},inplace=True)"
   ]
  },
  {
   "cell_type": "code",
   "execution_count": 32,
   "metadata": {},
   "outputs": [],
   "source": [
    "df2=pd.get_dummies(data=df1,columns=['InternetService',\"Contract\",\"PaymentMethod\"])"
   ]
  },
  {
   "cell_type": "code",
   "execution_count": 33,
   "metadata": {},
   "outputs": [],
   "source": [
    "cols_to_scale=['tenure','MonthlyCharges','TotalCharges']"
   ]
  },
  {
   "cell_type": "code",
   "execution_count": 34,
   "metadata": {},
   "outputs": [],
   "source": [
    "from sklearn.preprocessing import MinMaxScaler\n",
    "scaler=MinMaxScaler()"
   ]
  },
  {
   "cell_type": "code",
   "execution_count": 35,
   "metadata": {},
   "outputs": [],
   "source": [
    "df2[cols_to_scale]=scaler.fit_transform(df2[cols_to_scale])"
   ]
  },
  {
   "cell_type": "code",
   "execution_count": 36,
   "metadata": {},
   "outputs": [
    {
     "data": {
      "text/html": [
       "<div>\n",
       "<style scoped>\n",
       "    .dataframe tbody tr th:only-of-type {\n",
       "        vertical-align: middle;\n",
       "    }\n",
       "\n",
       "    .dataframe tbody tr th {\n",
       "        vertical-align: top;\n",
       "    }\n",
       "\n",
       "    .dataframe thead th {\n",
       "        text-align: right;\n",
       "    }\n",
       "</style>\n",
       "<table border=\"1\" class=\"dataframe\">\n",
       "  <thead>\n",
       "    <tr style=\"text-align: right;\">\n",
       "      <th></th>\n",
       "      <th>gender</th>\n",
       "      <th>SeniorCitizen</th>\n",
       "      <th>Partner</th>\n",
       "      <th>Dependents</th>\n",
       "      <th>tenure</th>\n",
       "      <th>PhoneService</th>\n",
       "      <th>MultipleLines</th>\n",
       "      <th>OnlineSecurity</th>\n",
       "      <th>OnlineBackup</th>\n",
       "      <th>DeviceProtection</th>\n",
       "      <th>...</th>\n",
       "      <th>InternetService_DSL</th>\n",
       "      <th>InternetService_Fiber optic</th>\n",
       "      <th>InternetService_No</th>\n",
       "      <th>Contract_Month-to-month</th>\n",
       "      <th>Contract_One year</th>\n",
       "      <th>Contract_Two year</th>\n",
       "      <th>PaymentMethod_Bank transfer (automatic)</th>\n",
       "      <th>PaymentMethod_Credit card (automatic)</th>\n",
       "      <th>PaymentMethod_Electronic check</th>\n",
       "      <th>PaymentMethod_Mailed check</th>\n",
       "    </tr>\n",
       "  </thead>\n",
       "  <tbody>\n",
       "    <tr>\n",
       "      <th>0</th>\n",
       "      <td>1</td>\n",
       "      <td>0</td>\n",
       "      <td>1</td>\n",
       "      <td>0</td>\n",
       "      <td>0.000000</td>\n",
       "      <td>0</td>\n",
       "      <td>0</td>\n",
       "      <td>0</td>\n",
       "      <td>1</td>\n",
       "      <td>0</td>\n",
       "      <td>...</td>\n",
       "      <td>1</td>\n",
       "      <td>0</td>\n",
       "      <td>0</td>\n",
       "      <td>1</td>\n",
       "      <td>0</td>\n",
       "      <td>0</td>\n",
       "      <td>0</td>\n",
       "      <td>0</td>\n",
       "      <td>1</td>\n",
       "      <td>0</td>\n",
       "    </tr>\n",
       "    <tr>\n",
       "      <th>1</th>\n",
       "      <td>0</td>\n",
       "      <td>0</td>\n",
       "      <td>0</td>\n",
       "      <td>0</td>\n",
       "      <td>0.464789</td>\n",
       "      <td>1</td>\n",
       "      <td>0</td>\n",
       "      <td>1</td>\n",
       "      <td>0</td>\n",
       "      <td>1</td>\n",
       "      <td>...</td>\n",
       "      <td>1</td>\n",
       "      <td>0</td>\n",
       "      <td>0</td>\n",
       "      <td>0</td>\n",
       "      <td>1</td>\n",
       "      <td>0</td>\n",
       "      <td>0</td>\n",
       "      <td>0</td>\n",
       "      <td>0</td>\n",
       "      <td>1</td>\n",
       "    </tr>\n",
       "    <tr>\n",
       "      <th>2</th>\n",
       "      <td>0</td>\n",
       "      <td>0</td>\n",
       "      <td>0</td>\n",
       "      <td>0</td>\n",
       "      <td>0.014085</td>\n",
       "      <td>1</td>\n",
       "      <td>0</td>\n",
       "      <td>1</td>\n",
       "      <td>1</td>\n",
       "      <td>0</td>\n",
       "      <td>...</td>\n",
       "      <td>1</td>\n",
       "      <td>0</td>\n",
       "      <td>0</td>\n",
       "      <td>1</td>\n",
       "      <td>0</td>\n",
       "      <td>0</td>\n",
       "      <td>0</td>\n",
       "      <td>0</td>\n",
       "      <td>0</td>\n",
       "      <td>1</td>\n",
       "    </tr>\n",
       "    <tr>\n",
       "      <th>3</th>\n",
       "      <td>0</td>\n",
       "      <td>0</td>\n",
       "      <td>0</td>\n",
       "      <td>0</td>\n",
       "      <td>0.619718</td>\n",
       "      <td>0</td>\n",
       "      <td>0</td>\n",
       "      <td>1</td>\n",
       "      <td>0</td>\n",
       "      <td>1</td>\n",
       "      <td>...</td>\n",
       "      <td>1</td>\n",
       "      <td>0</td>\n",
       "      <td>0</td>\n",
       "      <td>0</td>\n",
       "      <td>1</td>\n",
       "      <td>0</td>\n",
       "      <td>1</td>\n",
       "      <td>0</td>\n",
       "      <td>0</td>\n",
       "      <td>0</td>\n",
       "    </tr>\n",
       "    <tr>\n",
       "      <th>4</th>\n",
       "      <td>1</td>\n",
       "      <td>0</td>\n",
       "      <td>0</td>\n",
       "      <td>0</td>\n",
       "      <td>0.014085</td>\n",
       "      <td>1</td>\n",
       "      <td>0</td>\n",
       "      <td>0</td>\n",
       "      <td>0</td>\n",
       "      <td>0</td>\n",
       "      <td>...</td>\n",
       "      <td>0</td>\n",
       "      <td>1</td>\n",
       "      <td>0</td>\n",
       "      <td>1</td>\n",
       "      <td>0</td>\n",
       "      <td>0</td>\n",
       "      <td>0</td>\n",
       "      <td>0</td>\n",
       "      <td>1</td>\n",
       "      <td>0</td>\n",
       "    </tr>\n",
       "  </tbody>\n",
       "</table>\n",
       "<p>5 rows × 27 columns</p>\n",
       "</div>"
      ],
      "text/plain": [
       "   gender  SeniorCitizen  Partner  Dependents    tenure  PhoneService  \\\n",
       "0       1              0        1           0  0.000000             0   \n",
       "1       0              0        0           0  0.464789             1   \n",
       "2       0              0        0           0  0.014085             1   \n",
       "3       0              0        0           0  0.619718             0   \n",
       "4       1              0        0           0  0.014085             1   \n",
       "\n",
       "   MultipleLines  OnlineSecurity  OnlineBackup  DeviceProtection  ...  \\\n",
       "0              0               0             1                 0  ...   \n",
       "1              0               1             0                 1  ...   \n",
       "2              0               1             1                 0  ...   \n",
       "3              0               1             0                 1  ...   \n",
       "4              0               0             0                 0  ...   \n",
       "\n",
       "   InternetService_DSL  InternetService_Fiber optic  InternetService_No  \\\n",
       "0                    1                            0                   0   \n",
       "1                    1                            0                   0   \n",
       "2                    1                            0                   0   \n",
       "3                    1                            0                   0   \n",
       "4                    0                            1                   0   \n",
       "\n",
       "   Contract_Month-to-month  Contract_One year  Contract_Two year  \\\n",
       "0                        1                  0                  0   \n",
       "1                        0                  1                  0   \n",
       "2                        1                  0                  0   \n",
       "3                        0                  1                  0   \n",
       "4                        1                  0                  0   \n",
       "\n",
       "   PaymentMethod_Bank transfer (automatic)  \\\n",
       "0                                        0   \n",
       "1                                        0   \n",
       "2                                        0   \n",
       "3                                        1   \n",
       "4                                        0   \n",
       "\n",
       "   PaymentMethod_Credit card (automatic)  PaymentMethod_Electronic check  \\\n",
       "0                                      0                               1   \n",
       "1                                      0                               0   \n",
       "2                                      0                               0   \n",
       "3                                      0                               0   \n",
       "4                                      0                               1   \n",
       "\n",
       "   PaymentMethod_Mailed check  \n",
       "0                           0  \n",
       "1                           1  \n",
       "2                           1  \n",
       "3                           0  \n",
       "4                           0  \n",
       "\n",
       "[5 rows x 27 columns]"
      ]
     },
     "execution_count": 36,
     "metadata": {},
     "output_type": "execute_result"
    }
   ],
   "source": [
    "df2.head()"
   ]
  },
  {
   "cell_type": "code",
   "execution_count": 40,
   "metadata": {},
   "outputs": [],
   "source": [
    "X=df2.drop('Churn',axis='columns')\n",
    "y=df2['Churn']"
   ]
  },
  {
   "cell_type": "code",
   "execution_count": 41,
   "metadata": {},
   "outputs": [],
   "source": [
    "from sklearn.model_selection import train_test_split"
   ]
  },
  {
   "cell_type": "code",
   "execution_count": 42,
   "metadata": {},
   "outputs": [],
   "source": [
    "X_train, X_test, y_train, y_test = train_test_split(\n",
    "...     X, y, test_size=0.2, random_state=5)"
   ]
  },
  {
   "cell_type": "code",
   "execution_count": 43,
   "metadata": {},
   "outputs": [],
   "source": [
    "import tensorflow as tf\n",
    "from tensorflow import keraseras"
   ]
  },
  {
   "cell_type": "code",
   "execution_count": 73,
   "metadata": {},
   "outputs": [],
   "source": [
    "model=keras.Sequential([\n",
    "    keras.layers.Dense(20,input_shape=(26,),activation='relu'),\n",
    "   \n",
    "    keras.layers.Dense(1,activation='sigmoid')\n",
    "])"
   ]
  },
  {
   "cell_type": "code",
   "execution_count": 74,
   "metadata": {},
   "outputs": [],
   "source": [
    "model.compile(optimizer=keras.optimizers.Adam(),\n",
    "             loss='binary_crossentropy',\n",
    "             metrics=['accuracy'])"
   ]
  },
  {
   "cell_type": "code",
   "execution_count": 75,
   "metadata": {},
   "outputs": [
    {
     "name": "stdout",
     "output_type": "stream",
     "text": [
      "Epoch 1/100\n",
      "5625/5625 [==============================] - 0s 82us/sample - loss: 0.5304 - acc: 0.7385\n",
      "Epoch 2/100\n",
      "5625/5625 [==============================] - 0s 38us/sample - loss: 0.4336 - acc: 0.7964\n",
      "Epoch 3/100\n",
      "5625/5625 [==============================] - 0s 29us/sample - loss: 0.4234 - acc: 0.8036\n",
      "Epoch 4/100\n",
      "5625/5625 [==============================] - 0s 50us/sample - loss: 0.4182 - acc: 0.8016\n",
      "Epoch 5/100\n",
      "5625/5625 [==============================] - 0s 50us/sample - loss: 0.4151 - acc: 0.8050\n",
      "Epoch 6/100\n",
      "5625/5625 [==============================] - 0s 56us/sample - loss: 0.4147 - acc: 0.8080\n",
      "Epoch 7/100\n",
      "5625/5625 [==============================] - 0s 57us/sample - loss: 0.4128 - acc: 0.8091\n",
      "Epoch 8/100\n",
      "5625/5625 [==============================] - 0s 55us/sample - loss: 0.4118 - acc: 0.8068\n",
      "Epoch 9/100\n",
      "5625/5625 [==============================] - 0s 46us/sample - loss: 0.4102 - acc: 0.8068\n",
      "Epoch 10/100\n",
      "5625/5625 [==============================] - 0s 30us/sample - loss: 0.4097 - acc: 0.8091\n",
      "Epoch 11/100\n",
      "5625/5625 [==============================] - 0s 39us/sample - loss: 0.4094 - acc: 0.8092\n",
      "Epoch 12/100\n",
      "5625/5625 [==============================] - 0s 53us/sample - loss: 0.4080 - acc: 0.8117\n",
      "Epoch 13/100\n",
      "5625/5625 [==============================] - 0s 52us/sample - loss: 0.4080 - acc: 0.8096\n",
      "Epoch 14/100\n",
      "5625/5625 [==============================] - 0s 55us/sample - loss: 0.4065 - acc: 0.8116\n",
      "Epoch 15/100\n",
      "5625/5625 [==============================] - 0s 54us/sample - loss: 0.4061 - acc: 0.8114\n",
      "Epoch 16/100\n",
      "5625/5625 [==============================] - 0s 51us/sample - loss: 0.4055 - acc: 0.8114\n",
      "Epoch 17/100\n",
      "5625/5625 [==============================] - 0s 34us/sample - loss: 0.4043 - acc: 0.8112\n",
      "Epoch 18/100\n",
      "5625/5625 [==============================] - 0s 32us/sample - loss: 0.4042 - acc: 0.8128\n",
      "Epoch 19/100\n",
      "5625/5625 [==============================] - 0s 56us/sample - loss: 0.4032 - acc: 0.8110\n",
      "Epoch 20/100\n",
      "5625/5625 [==============================] - 0s 52us/sample - loss: 0.4036 - acc: 0.8132\n",
      "Epoch 21/100\n",
      "5625/5625 [==============================] - 0s 58us/sample - loss: 0.4023 - acc: 0.8140\n",
      "Epoch 22/100\n",
      "5625/5625 [==============================] - 0s 56us/sample - loss: 0.4022 - acc: 0.8133\n",
      "Epoch 23/100\n",
      "5625/5625 [==============================] - 0s 55us/sample - loss: 0.4015 - acc: 0.8126\n",
      "Epoch 24/100\n",
      "5625/5625 [==============================] - 0s 37us/sample - loss: 0.4006 - acc: 0.81120s - loss: 0.3997 - acc: 0.812\n",
      "Epoch 25/100\n",
      "5625/5625 [==============================] - 0s 27us/sample - loss: 0.3995 - acc: 0.8148\n",
      "Epoch 26/100\n",
      "5625/5625 [==============================] - 0s 50us/sample - loss: 0.4005 - acc: 0.8148\n",
      "Epoch 27/100\n",
      "5625/5625 [==============================] - 0s 59us/sample - loss: 0.3992 - acc: 0.8135\n",
      "Epoch 28/100\n",
      "5625/5625 [==============================] - 0s 60us/sample - loss: 0.3986 - acc: 0.8140\n",
      "Epoch 29/100\n",
      "5625/5625 [==============================] - 0s 57us/sample - loss: 0.3980 - acc: 0.8164\n",
      "Epoch 30/100\n",
      "5625/5625 [==============================] - 0s 53us/sample - loss: 0.3979 - acc: 0.8146\n",
      "Epoch 31/100\n",
      "5625/5625 [==============================] - 0s 41us/sample - loss: 0.3971 - acc: 0.8144\n",
      "Epoch 32/100\n",
      "5625/5625 [==============================] - 0s 28us/sample - loss: 0.3972 - acc: 0.8172\n",
      "Epoch 33/100\n",
      "5625/5625 [==============================] - 0s 44us/sample - loss: 0.3959 - acc: 0.8169\n",
      "Epoch 34/100\n",
      "5625/5625 [==============================] - 0s 57us/sample - loss: 0.3958 - acc: 0.8151\n",
      "Epoch 35/100\n",
      "5625/5625 [==============================] - 0s 60us/sample - loss: 0.3958 - acc: 0.8160\n",
      "Epoch 36/100\n",
      "5625/5625 [==============================] - 0s 49us/sample - loss: 0.3948 - acc: 0.8164\n",
      "Epoch 37/100\n",
      "5625/5625 [==============================] - 0s 57us/sample - loss: 0.3950 - acc: 0.8160\n",
      "Epoch 38/100\n",
      "5625/5625 [==============================] - 0s 46us/sample - loss: 0.3942 - acc: 0.8167\n",
      "Epoch 39/100\n",
      "5625/5625 [==============================] - 0s 29us/sample - loss: 0.3939 - acc: 0.8180\n",
      "Epoch 40/100\n",
      "5625/5625 [==============================] - 0s 42us/sample - loss: 0.3934 - acc: 0.8156\n",
      "Epoch 41/100\n",
      "5625/5625 [==============================] - 0s 74us/sample - loss: 0.3929 - acc: 0.8169\n",
      "Epoch 42/100\n",
      "5625/5625 [==============================] - 0s 54us/sample - loss: 0.3925 - acc: 0.8176\n",
      "Epoch 43/100\n",
      "5625/5625 [==============================] - 0s 54us/sample - loss: 0.3920 - acc: 0.8192\n",
      "Epoch 44/100\n",
      "5625/5625 [==============================] - 0s 68us/sample - loss: 0.3920 - acc: 0.8172\n",
      "Epoch 45/100\n",
      "5625/5625 [==============================] - 0s 42us/sample - loss: 0.3916 - acc: 0.8167\n",
      "Epoch 46/100\n",
      "5625/5625 [==============================] - 0s 27us/sample - loss: 0.3910 - acc: 0.8199\n",
      "Epoch 47/100\n",
      "5625/5625 [==============================] - 0s 47us/sample - loss: 0.3912 - acc: 0.8180\n",
      "Epoch 48/100\n",
      "5625/5625 [==============================] - 0s 53us/sample - loss: 0.3906 - acc: 0.8203\n",
      "Epoch 49/100\n",
      "5625/5625 [==============================] - 0s 62us/sample - loss: 0.3903 - acc: 0.8194\n",
      "Epoch 50/100\n",
      "5625/5625 [==============================] - 0s 72us/sample - loss: 0.3901 - acc: 0.8167\n",
      "Epoch 51/100\n",
      "5625/5625 [==============================] - 0s 61us/sample - loss: 0.3901 - acc: 0.8197\n",
      "Epoch 52/100\n",
      "5625/5625 [==============================] - 0s 52us/sample - loss: 0.3904 - acc: 0.8183\n",
      "Epoch 53/100\n",
      "5625/5625 [==============================] - 0s 63us/sample - loss: 0.3895 - acc: 0.8190\n",
      "Epoch 54/100\n",
      "5625/5625 [==============================] - 0s 57us/sample - loss: 0.3887 - acc: 0.8164\n",
      "Epoch 55/100\n",
      "5625/5625 [==============================] - 0s 64us/sample - loss: 0.3886 - acc: 0.8190\n",
      "Epoch 56/100\n",
      "5625/5625 [==============================] - 0s 58us/sample - loss: 0.3880 - acc: 0.8190\n",
      "Epoch 57/100\n",
      "5625/5625 [==============================] - 0s 59us/sample - loss: 0.3884 - acc: 0.8199\n",
      "Epoch 58/100\n",
      "5625/5625 [==============================] - 0s 32us/sample - loss: 0.3882 - acc: 0.8187\n",
      "Epoch 59/100\n",
      "5625/5625 [==============================] - 0s 34us/sample - loss: 0.3876 - acc: 0.8183\n",
      "Epoch 60/100\n",
      "5625/5625 [==============================] - 0s 61us/sample - loss: 0.3875 - acc: 0.8181\n",
      "Epoch 61/100\n",
      "5625/5625 [==============================] - 0s 54us/sample - loss: 0.3875 - acc: 0.8188\n",
      "Epoch 62/100\n",
      "5625/5625 [==============================] - 0s 57us/sample - loss: 0.3871 - acc: 0.8194\n",
      "Epoch 63/100\n",
      "5625/5625 [==============================] - 0s 55us/sample - loss: 0.3865 - acc: 0.8213\n",
      "Epoch 64/100\n",
      "5625/5625 [==============================] - 0s 56us/sample - loss: 0.3860 - acc: 0.81880s - loss: 0.3953 - acc: 0.\n",
      "Epoch 65/100\n",
      "5625/5625 [==============================] - 0s 33us/sample - loss: 0.3856 - acc: 0.8181\n",
      "Epoch 66/100\n",
      "5625/5625 [==============================] - 0s 29us/sample - loss: 0.3853 - acc: 0.8194\n",
      "Epoch 67/100\n",
      "5625/5625 [==============================] - 0s 52us/sample - loss: 0.3856 - acc: 0.8176\n",
      "Epoch 68/100\n",
      "5625/5625 [==============================] - 0s 58us/sample - loss: 0.3855 - acc: 0.8203\n",
      "Epoch 69/100\n",
      "5625/5625 [==============================] - 0s 53us/sample - loss: 0.3845 - acc: 0.8220\n",
      "Epoch 70/100\n",
      "5625/5625 [==============================] - 0s 52us/sample - loss: 0.3846 - acc: 0.8206\n",
      "Epoch 71/100\n",
      "5625/5625 [==============================] - 0s 59us/sample - loss: 0.3848 - acc: 0.8220\n",
      "Epoch 72/100\n",
      "5625/5625 [==============================] - 0s 38us/sample - loss: 0.3842 - acc: 0.8197\n",
      "Epoch 73/100\n",
      "5625/5625 [==============================] - 0s 29us/sample - loss: 0.3840 - acc: 0.8213\n",
      "Epoch 74/100\n",
      "5625/5625 [==============================] - 0s 54us/sample - loss: 0.3836 - acc: 0.8190\n",
      "Epoch 75/100\n",
      "5625/5625 [==============================] - 0s 66us/sample - loss: 0.3839 - acc: 0.8203\n",
      "Epoch 76/100\n",
      "5625/5625 [==============================] - 0s 54us/sample - loss: 0.3830 - acc: 0.8213\n",
      "Epoch 77/100\n",
      "5625/5625 [==============================] - 0s 53us/sample - loss: 0.3829 - acc: 0.8204\n",
      "Epoch 78/100\n",
      "5625/5625 [==============================] - 0s 57us/sample - loss: 0.3830 - acc: 0.8224\n",
      "Epoch 79/100\n",
      "5625/5625 [==============================] - 0s 38us/sample - loss: 0.3819 - acc: 0.8206\n",
      "Epoch 80/100\n"
     ]
    },
    {
     "name": "stdout",
     "output_type": "stream",
     "text": [
      "5625/5625 [==============================] - 0s 30us/sample - loss: 0.3822 - acc: 0.8208\n",
      "Epoch 81/100\n",
      "5625/5625 [==============================] - 0s 48us/sample - loss: 0.3819 - acc: 0.8199\n",
      "Epoch 82/100\n",
      "5625/5625 [==============================] - 0s 51us/sample - loss: 0.3818 - acc: 0.8245\n",
      "Epoch 83/100\n",
      "5625/5625 [==============================] - 0s 57us/sample - loss: 0.3822 - acc: 0.8206\n",
      "Epoch 84/100\n",
      "5625/5625 [==============================] - 0s 60us/sample - loss: 0.3817 - acc: 0.8224\n",
      "Epoch 85/100\n",
      "5625/5625 [==============================] - 0s 55us/sample - loss: 0.3814 - acc: 0.8190\n",
      "Epoch 86/100\n",
      "5625/5625 [==============================] - 0s 45us/sample - loss: 0.3806 - acc: 0.8190\n",
      "Epoch 87/100\n",
      "5625/5625 [==============================] - 0s 29us/sample - loss: 0.3809 - acc: 0.8213\n",
      "Epoch 88/100\n",
      "5625/5625 [==============================] - 0s 44us/sample - loss: 0.3814 - acc: 0.8199\n",
      "Epoch 89/100\n",
      "5625/5625 [==============================] - 0s 56us/sample - loss: 0.3811 - acc: 0.8196\n",
      "Epoch 90/100\n",
      "5625/5625 [==============================] - 0s 54us/sample - loss: 0.3805 - acc: 0.8208\n",
      "Epoch 91/100\n",
      "5625/5625 [==============================] - 0s 62us/sample - loss: 0.3801 - acc: 0.8212\n",
      "Epoch 92/100\n",
      "5625/5625 [==============================] - 0s 55us/sample - loss: 0.3799 - acc: 0.8212\n",
      "Epoch 93/100\n",
      "5625/5625 [==============================] - 0s 47us/sample - loss: 0.3797 - acc: 0.8210\n",
      "Epoch 94/100\n",
      "5625/5625 [==============================] - 0s 32us/sample - loss: 0.3799 - acc: 0.8212\n",
      "Epoch 95/100\n",
      "5625/5625 [==============================] - 0s 49us/sample - loss: 0.3793 - acc: 0.8215\n",
      "Epoch 96/100\n",
      "5625/5625 [==============================] - 0s 53us/sample - loss: 0.3792 - acc: 0.8204\n",
      "Epoch 97/100\n",
      "5625/5625 [==============================] - 0s 64us/sample - loss: 0.3795 - acc: 0.8210\n",
      "Epoch 98/100\n",
      "5625/5625 [==============================] - ETA: 0s - loss: 0.3780 - acc: 0.822 - 0s 60us/sample - loss: 0.3791 - acc: 0.8224\n",
      "Epoch 99/100\n",
      "5625/5625 [==============================] - 0s 48us/sample - loss: 0.3786 - acc: 0.8203\n",
      "Epoch 100/100\n",
      "5625/5625 [==============================] - 0s 50us/sample - loss: 0.3790 - acc: 0.8194\n"
     ]
    },
    {
     "data": {
      "text/plain": [
       "<tensorflow.python.keras.callbacks.History at 0x15ef4ed7e88>"
      ]
     },
     "execution_count": 75,
     "metadata": {},
     "output_type": "execute_result"
    }
   ],
   "source": [
    "model.fit(X_train,y_train,epochs=100)"
   ]
  },
  {
   "cell_type": "code",
   "execution_count": 76,
   "metadata": {},
   "outputs": [
    {
     "name": "stdout",
     "output_type": "stream",
     "text": [
      "1407/1407 [==============================] - 0s 48us/sample - loss: 0.4553 - acc: 0.7910\n"
     ]
    },
    {
     "data": {
      "text/plain": [
       "[0.4552529608432333, 0.7910448]"
      ]
     },
     "execution_count": 76,
     "metadata": {},
     "output_type": "execute_result"
    }
   ],
   "source": [
    "model.evaluate(X_test,y_test)"
   ]
  },
  {
   "cell_type": "code",
   "execution_count": null,
   "metadata": {},
   "outputs": [],
   "source": []
  }
 ],
 "metadata": {
  "kernelspec": {
   "display_name": "Python 3",
   "language": "python",
   "name": "python3"
  },
  "language_info": {
   "codemirror_mode": {
    "name": "ipython",
    "version": 3
   },
   "file_extension": ".py",
   "mimetype": "text/x-python",
   "name": "python",
   "nbconvert_exporter": "python",
   "pygments_lexer": "ipython3",
   "version": "3.7.6"
  }
 },
 "nbformat": 4,
 "nbformat_minor": 4
}
